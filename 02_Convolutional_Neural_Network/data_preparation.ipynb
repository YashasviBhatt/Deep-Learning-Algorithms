{
 "cells": [
  {
   "cell_type": "code",
   "execution_count": 1,
   "id": "f3076f34",
   "metadata": {},
   "outputs": [],
   "source": [
    "# Importing Libraries\n",
    "import os\n",
    "import numpy as np\n",
    "import cv2\n",
    "import random\n",
    "from tqdm.notebook import tqdm_notebook as bar\n",
    "import pickle as pkl"
   ]
  },
  {
   "cell_type": "code",
   "execution_count": 2,
   "id": "17d07b70",
   "metadata": {},
   "outputs": [
    {
     "name": "stdout",
     "output_type": "stream",
     "text": [
      "Reading cat images\n"
     ]
    },
    {
     "data": {
      "application/vnd.jupyter.widget-view+json": {
       "model_id": "c1aaf2087c5844e4b2261df38ece687c",
       "version_major": 2,
       "version_minor": 0
      },
      "text/plain": [
       "  0%|          | 0/12500 [00:00<?, ?it/s]"
      ]
     },
     "metadata": {},
     "output_type": "display_data"
    },
    {
     "name": "stdout",
     "output_type": "stream",
     "text": [
      "Reading dog images\n"
     ]
    },
    {
     "data": {
      "application/vnd.jupyter.widget-view+json": {
       "model_id": "64f8e14f13de472bbd780e54797969c6",
       "version_major": 2,
       "version_minor": 0
      },
      "text/plain": [
       "  0%|          | 0/12500 [00:00<?, ?it/s]"
      ]
     },
     "metadata": {},
     "output_type": "display_data"
    }
   ],
   "source": [
    "# Importing Images\n",
    "CATEGORIES = ['cat', 'dog']\n",
    "data = []\n",
    "for category in CATEGORIES:\n",
    "    folder = os.path.join(r'./train', category)\n",
    "    label = CATEGORIES.index(category)\n",
    "    print(f'Reading {category} images')\n",
    "    for img in bar(os.listdir(folder), ):\n",
    "        img_path = os.path.join(folder, img)\n",
    "        img_arr = cv2.imread(img_path)\n",
    "        img_arr = cv2.resize(img_arr, (128, 128))                # Image Reshaping\n",
    "        data.append([img_arr, label])"
   ]
  },
  {
   "cell_type": "code",
   "execution_count": 3,
   "id": "395685e7",
   "metadata": {},
   "outputs": [],
   "source": [
    "# Data Shuffling\n",
    "random.shuffle(data)"
   ]
  },
  {
   "cell_type": "code",
   "execution_count": 4,
   "id": "45ccd358",
   "metadata": {},
   "outputs": [
    {
     "data": {
      "application/vnd.jupyter.widget-view+json": {
       "model_id": "23d59e45fdec497eb2feb117f0e80049",
       "version_major": 2,
       "version_minor": 0
      },
      "text/plain": [
       "  0%|          | 0/25000 [00:00<?, ?it/s]"
      ]
     },
     "metadata": {},
     "output_type": "display_data"
    }
   ],
   "source": [
    "# Features and Label Separation\n",
    "X = []\n",
    "y = []\n",
    "for feature, label in bar(data):\n",
    "    X.append(feature)\n",
    "    y.append(label)"
   ]
  },
  {
   "cell_type": "code",
   "execution_count": 5,
   "id": "f21e9685",
   "metadata": {
    "scrolled": true
   },
   "outputs": [],
   "source": [
    "# Numpy Conversion\n",
    "X = np.array(X)\n",
    "y = np.array(y)"
   ]
  },
  {
   "cell_type": "code",
   "execution_count": 6,
   "id": "3b8f4ed0",
   "metadata": {},
   "outputs": [],
   "source": [
    "# Data Reshaping\n",
    "X = X[: 5000] / 255\n",
    "y = y[: 5000]"
   ]
  },
  {
   "cell_type": "code",
   "execution_count": 7,
   "id": "0d8e166f",
   "metadata": {},
   "outputs": [
    {
     "data": {
      "text/plain": [
       "((5000, 128, 128, 3), (5000,))"
      ]
     },
     "execution_count": 7,
     "metadata": {},
     "output_type": "execute_result"
    }
   ],
   "source": [
    "# Data Shape\n",
    "X.shape, y.shape"
   ]
  },
  {
   "cell_type": "code",
   "execution_count": 8,
   "id": "19a2d612",
   "metadata": {},
   "outputs": [
    {
     "data": {
      "text/plain": [
       "array([[[0.47843137, 0.52156863, 0.51372549],\n",
       "        [0.48627451, 0.52941176, 0.52156863],\n",
       "        [0.49411765, 0.5372549 , 0.52941176],\n",
       "        ...,\n",
       "        [0.29411765, 0.36862745, 0.50980392],\n",
       "        [0.25490196, 0.33333333, 0.44313725],\n",
       "        [0.15294118, 0.23921569, 0.34509804]],\n",
       "\n",
       "       [[0.4745098 , 0.51764706, 0.50980392],\n",
       "        [0.47843137, 0.52156863, 0.51372549],\n",
       "        [0.49411765, 0.5372549 , 0.52941176],\n",
       "        ...,\n",
       "        [0.24313725, 0.27843137, 0.39607843],\n",
       "        [0.28235294, 0.33333333, 0.4745098 ],\n",
       "        [0.29019608, 0.34901961, 0.49019608]],\n",
       "\n",
       "       [[0.48627451, 0.52941176, 0.52156863],\n",
       "        [0.48627451, 0.52941176, 0.52156863],\n",
       "        [0.49019608, 0.53333333, 0.5254902 ],\n",
       "        ...,\n",
       "        [0.3372549 , 0.34901961, 0.4745098 ],\n",
       "        [0.32156863, 0.36078431, 0.54901961],\n",
       "        [0.38039216, 0.43137255, 0.61960784]],\n",
       "\n",
       "       ...,\n",
       "\n",
       "       [[0.31372549, 0.36078431, 0.34901961],\n",
       "        [0.36078431, 0.40392157, 0.39607843],\n",
       "        [0.31372549, 0.35294118, 0.34117647],\n",
       "        ...,\n",
       "        [0.32941176, 0.35294118, 0.33333333],\n",
       "        [0.36078431, 0.38039216, 0.37254902],\n",
       "        [0.35294118, 0.37254902, 0.36470588]],\n",
       "\n",
       "       [[0.31372549, 0.35686275, 0.34509804],\n",
       "        [0.36078431, 0.40392157, 0.39215686],\n",
       "        [0.38039216, 0.42352941, 0.41176471],\n",
       "        ...,\n",
       "        [0.35686275, 0.38039216, 0.36078431],\n",
       "        [0.35294118, 0.37254902, 0.36470588],\n",
       "        [0.38039216, 0.4       , 0.39215686]],\n",
       "\n",
       "       [[0.36078431, 0.38039216, 0.37254902],\n",
       "        [0.35294118, 0.37254902, 0.36470588],\n",
       "        [0.36078431, 0.38039216, 0.37254902],\n",
       "        ...,\n",
       "        [0.38823529, 0.40784314, 0.4       ],\n",
       "        [0.37254902, 0.39215686, 0.38431373],\n",
       "        [0.37647059, 0.39607843, 0.38823529]]])"
      ]
     },
     "execution_count": 8,
     "metadata": {},
     "output_type": "execute_result"
    }
   ],
   "source": [
    "# Reshaped Data\n",
    "X[0]"
   ]
  },
  {
   "cell_type": "code",
   "execution_count": 9,
   "id": "d47d2dd5",
   "metadata": {},
   "outputs": [],
   "source": [
    "# Saving Arrays\n",
    "pkl.dump(X, open(r'./train/bin/feature.pkl', 'wb'))\n",
    "pkl.dump(y, open(r'./train/bin/class.pkl', 'wb'))"
   ]
  }
 ],
 "metadata": {
  "kernelspec": {
   "display_name": "Python 3 (ipykernel)",
   "language": "python",
   "name": "python3"
  },
  "language_info": {
   "codemirror_mode": {
    "name": "ipython",
    "version": 3
   },
   "file_extension": ".py",
   "mimetype": "text/x-python",
   "name": "python",
   "nbconvert_exporter": "python",
   "pygments_lexer": "ipython3",
   "version": "3.7.3"
  }
 },
 "nbformat": 4,
 "nbformat_minor": 5
}
