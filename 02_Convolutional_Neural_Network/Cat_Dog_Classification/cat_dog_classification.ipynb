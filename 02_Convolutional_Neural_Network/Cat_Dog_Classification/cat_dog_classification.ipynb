{
 "cells": [
  {
   "cell_type": "code",
   "execution_count": 1,
   "id": "b6a93d21",
   "metadata": {},
   "outputs": [],
   "source": [
    "# Importing Libraries\n",
    "import os\n",
    "from os.path import exists\n",
    "import numpy as np\n",
    "import pickle as pkl\n",
    "from tqdm.notebook import tqdm_notebook as bar\n",
    "from tensorflow.keras.models import Sequential\n",
    "from tensorflow.keras.callbacks import EarlyStopping, TensorBoard\n",
    "from tensorflow.keras.layers import Conv2D, MaxPooling2D, Flatten, Dense"
   ]
  },
  {
   "cell_type": "code",
   "execution_count": 2,
   "id": "fe6ea5a3",
   "metadata": {},
   "outputs": [
    {
     "name": "stdout",
     "output_type": "stream",
     "text": [
      "Checking for Binary Data Files...\n",
      "Data Files Found\n",
      "Loading Files...\n",
      "File Loading Completed Successfully\n"
     ]
    }
   ],
   "source": [
    "# Importing Data\n",
    "print('Checking for Binary Data Files...')\n",
    "if exists(r'./bin/feature_train.pkl'):\n",
    "    print('Data Files Found')\n",
    "    print('Loading Files...')\n",
    "    X_train = pkl.load(open(r'./bin/feature_train.pkl', 'rb'))\n",
    "    y_train = pkl.load(open(r'./bin/class_train.pkl', 'rb'))\n",
    "    X_test = pkl.load(open(r'./bin/feature_test.pkl', 'rb'))\n",
    "    y_test = pkl.load(open(r'./bin/class_test.pkl', 'rb'))\n",
    "    print('File Loading Completed Successfully')\n",
    "else:\n",
    "    print('Data Files Not Found')\n",
    "    print('Run data_preparation.py File first and then Re-Run this Cell')"
   ]
  },
  {
   "cell_type": "code",
   "execution_count": 3,
   "id": "951fc5d9",
   "metadata": {},
   "outputs": [
    {
     "name": "stdout",
     "output_type": "stream",
     "text": [
      "Training: ((5000, 128, 128, 3), (5000,))\n",
      "Testing: ((1000, 128, 128, 3), (1000,))\n"
     ]
    }
   ],
   "source": [
    "# Data Size\n",
    "print(f'Training: {X_train.shape, y_train.shape}\\nTesting: {X_test.shape, y_test.shape}')"
   ]
  },
  {
   "cell_type": "code",
   "execution_count": 4,
   "id": "b94f41ee",
   "metadata": {},
   "outputs": [],
   "source": [
    "# Convolution Neural Network\n",
    "model = Sequential()\n",
    "\n",
    "# First Convolution and Max Pooling Layer\n",
    "conv_layer_1 = Conv2D(64, (3, 3), activation='relu')\n",
    "max_pool_layer_1 = MaxPooling2D((2, 2))\n",
    "\n",
    "# Second Convolution and Max Pooling Layer\n",
    "conv_layer_2 = Conv2D(64, (3, 3), activation='relu')\n",
    "max_pool_layer_2 = MaxPooling2D((2, 2))\n",
    "\n",
    "# Third Convolution and Max Pooling Layer\n",
    "conv_layer_3 = Conv2D(64, (3, 3), activation='relu')\n",
    "max_pool_layer_3 = MaxPooling2D((2, 2))\n",
    "\n",
    "# Flattening Layer\n",
    "flatten_layer = Flatten()\n",
    "\n",
    "# Hidden Layers\n",
    "hidden_layer_1 = Dense(128, input_shape=X_train[0].shape, activation='relu')\n",
    "hidden_layer_2 = Dense(64, activation='relu')\n",
    "\n",
    "# Output Layer\n",
    "output_layer = Dense(2, activation='softmax')\n",
    "\n",
    "# Adding Layers to Neural Network\n",
    "model.add(conv_layer_1)\n",
    "model.add(max_pool_layer_1)\n",
    "model.add(conv_layer_2)\n",
    "model.add(max_pool_layer_2)\n",
    "model.add(conv_layer_3)\n",
    "model.add(max_pool_layer_3)\n",
    "model.add(flatten_layer)\n",
    "model.add(hidden_layer_1)\n",
    "model.add(hidden_layer_2)\n",
    "model.add(output_layer)"
   ]
  },
  {
   "cell_type": "code",
   "execution_count": 5,
   "id": "31b093d3",
   "metadata": {},
   "outputs": [],
   "source": [
    "# Compiling Model\n",
    "model.compile(loss='sparse_categorical_crossentropy', optimizer='adam', metrics=['accuracy'])"
   ]
  },
  {
   "cell_type": "code",
   "execution_count": 6,
   "id": "a00a94ff",
   "metadata": {},
   "outputs": [],
   "source": [
    "# Setting Up Callback\n",
    "stopper = EarlyStopping(\n",
    "    monitor='accuracy', \n",
    "    min_delta=0, patience=3, \n",
    "    verbose=0, \n",
    "    mode='auto', \n",
    "    baseline=None, \n",
    "    restore_best_weights=True\n",
    ")"
   ]
  },
  {
   "cell_type": "code",
   "execution_count": 7,
   "id": "a5940c94",
   "metadata": {},
   "outputs": [
    {
     "name": "stdout",
     "output_type": "stream",
     "text": [
      "Epoch 1/10\n",
      "141/141 [==============================] - 126s 884ms/step - loss: 0.6923 - accuracy: 0.5300 - val_loss: 0.6836 - val_accuracy: 0.6020\n",
      "Epoch 2/10\n",
      "141/141 [==============================] - 128s 911ms/step - loss: 0.6556 - accuracy: 0.6204 - val_loss: 0.6419 - val_accuracy: 0.6520\n",
      "Epoch 3/10\n",
      "141/141 [==============================] - 127s 901ms/step - loss: 0.5981 - accuracy: 0.6744 - val_loss: 0.5924 - val_accuracy: 0.7240\n",
      "Epoch 4/10\n",
      "141/141 [==============================] - 128s 905ms/step - loss: 0.5371 - accuracy: 0.7216 - val_loss: 0.5787 - val_accuracy: 0.7220\n",
      "Epoch 5/10\n",
      "141/141 [==============================] - 127s 897ms/step - loss: 0.4614 - accuracy: 0.7802 - val_loss: 0.5608 - val_accuracy: 0.7340\n",
      "Epoch 6/10\n",
      "141/141 [==============================] - 128s 906ms/step - loss: 0.3303 - accuracy: 0.8502 - val_loss: 0.6336 - val_accuracy: 0.7220\n",
      "Epoch 7/10\n",
      "141/141 [==============================] - 126s 897ms/step - loss: 0.2052 - accuracy: 0.9207 - val_loss: 0.8032 - val_accuracy: 0.7140\n",
      "Epoch 8/10\n",
      "141/141 [==============================] - 128s 906ms/step - loss: 0.1168 - accuracy: 0.9584 - val_loss: 1.0121 - val_accuracy: 0.7140\n",
      "Epoch 9/10\n",
      "141/141 [==============================] - 127s 902ms/step - loss: 0.0617 - accuracy: 0.9753 - val_loss: 1.3978 - val_accuracy: 0.6920\n",
      "Epoch 10/10\n",
      "141/141 [==============================] - 127s 903ms/step - loss: 0.0678 - accuracy: 0.9764 - val_loss: 1.2070 - val_accuracy: 0.7200\n"
     ]
    }
   ],
   "source": [
    "# Fitting Data\n",
    "history = model.fit(X_train, y_train, epochs=10, callbacks=[stopper], validation_split=0.1)"
   ]
  },
  {
   "cell_type": "code",
   "execution_count": 8,
   "id": "70ba5d47",
   "metadata": {},
   "outputs": [
    {
     "name": "stdout",
     "output_type": "stream",
     "text": [
      "Model: \"sequential\"\n",
      "_________________________________________________________________\n",
      "Layer (type)                 Output Shape              Param #   \n",
      "=================================================================\n",
      "conv2d (Conv2D)              (None, 126, 126, 64)      1792      \n",
      "_________________________________________________________________\n",
      "max_pooling2d (MaxPooling2D) (None, 63, 63, 64)        0         \n",
      "_________________________________________________________________\n",
      "conv2d_1 (Conv2D)            (None, 61, 61, 64)        36928     \n",
      "_________________________________________________________________\n",
      "max_pooling2d_1 (MaxPooling2 (None, 30, 30, 64)        0         \n",
      "_________________________________________________________________\n",
      "conv2d_2 (Conv2D)            (None, 28, 28, 64)        36928     \n",
      "_________________________________________________________________\n",
      "max_pooling2d_2 (MaxPooling2 (None, 14, 14, 64)        0         \n",
      "_________________________________________________________________\n",
      "flatten (Flatten)            (None, 12544)             0         \n",
      "_________________________________________________________________\n",
      "dense (Dense)                (None, 128)               1605760   \n",
      "_________________________________________________________________\n",
      "dense_1 (Dense)              (None, 64)                8256      \n",
      "_________________________________________________________________\n",
      "dense_2 (Dense)              (None, 2)                 130       \n",
      "=================================================================\n",
      "Total params: 1,689,794\n",
      "Trainable params: 1,689,794\n",
      "Non-trainable params: 0\n",
      "_________________________________________________________________\n"
     ]
    }
   ],
   "source": [
    "# Summary\n",
    "model.summary()"
   ]
  },
  {
   "cell_type": "code",
   "execution_count": 9,
   "id": "8b3f5b9a",
   "metadata": {},
   "outputs": [
    {
     "name": "stdout",
     "output_type": "stream",
     "text": [
      "Best Results\n",
      "loss: 0.06782330572605133\n",
      "accuracy: 0.9764444231987\n",
      "val_loss: 1.2070155143737793\n",
      "val_accuracy: 0.7200000286102295\n"
     ]
    }
   ],
   "source": [
    "# Best Results\n",
    "print('Best Results')\n",
    "for cat in history.history.keys():\n",
    "    print(f'{cat}: {history.history[cat][-1]}')"
   ]
  },
  {
   "cell_type": "code",
   "execution_count": 10,
   "id": "3db56c62",
   "metadata": {},
   "outputs": [
    {
     "name": "stdout",
     "output_type": "stream",
     "text": [
      "32/32 [==============================] - 7s 225ms/step - loss: 1.4964 - accuracy: 0.6810\n"
     ]
    },
    {
     "data": {
      "text/plain": [
       "[1.4964436292648315, 0.6809999942779541]"
      ]
     },
     "execution_count": 10,
     "metadata": {},
     "output_type": "execute_result"
    }
   ],
   "source": [
    "# Evaluation\n",
    "model.evaluate(X_test, y_test)"
   ]
  }
 ],
 "metadata": {
  "hide_input": false,
  "kernelspec": {
   "display_name": "Python 3 (ipykernel)",
   "language": "python",
   "name": "python3"
  },
  "language_info": {
   "codemirror_mode": {
    "name": "ipython",
    "version": 3
   },
   "file_extension": ".py",
   "mimetype": "text/x-python",
   "name": "python",
   "nbconvert_exporter": "python",
   "pygments_lexer": "ipython3",
   "version": "3.7.3"
  },
  "toc": {
   "base_numbering": 1,
   "nav_menu": {},
   "number_sections": true,
   "sideBar": true,
   "skip_h1_title": false,
   "title_cell": "Table of Contents",
   "title_sidebar": "Contents",
   "toc_cell": false,
   "toc_position": {},
   "toc_section_display": true,
   "toc_window_display": false
  }
 },
 "nbformat": 4,
 "nbformat_minor": 5
}
