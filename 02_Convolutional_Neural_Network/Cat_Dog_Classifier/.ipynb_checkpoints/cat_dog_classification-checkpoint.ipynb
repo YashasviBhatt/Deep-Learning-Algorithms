{
 "cells": [
  {
   "cell_type": "code",
   "execution_count": 1,
   "id": "b6a93d21",
   "metadata": {},
   "outputs": [],
   "source": [
    "# Importing Libraries\n",
    "from os.path import exists\n",
    "import numpy as np\n",
    "import pickle as pkl\n",
    "from tqdm.notebook import tqdm_notebook as bar\n",
    "from tensorflow.keras.models import Sequential\n",
    "from tensorflow.keras.callbacks import EarlyStopping, TensorBoard\n",
    "from tensorflow.keras.layers import Conv2D, MaxPooling2D, Flatten, Dense"
   ]
  },
  {
   "cell_type": "code",
   "execution_count": 2,
   "id": "fe6ea5a3",
   "metadata": {},
   "outputs": [
    {
     "name": "stdout",
     "output_type": "stream",
     "text": [
      "Checking for Binary Data Files...\n",
      "Data Files Found\n",
      "Loading Files...\n",
      "File Loading Completed Successfully\n"
     ]
    }
   ],
   "source": [
    "# Importing Data\n",
    "print('Checking for Binary Data Files...')\n",
    "if exists(r'./train/bin/feature.pkl') and exists(r'./train/bin/class.pkl'):\n",
    "    print('Data Files Found')\n",
    "    print('Loading Files...')\n",
    "    X = pkl.load(open(r'./train/bin/feature.pkl', 'rb'))\n",
    "    y = pkl.load(open(r'./train/bin/class.pkl', 'rb'))\n",
    "    print('File Loading Completed Successfully')\n",
    "else:\n",
    "    print('Data Files Not Found')\n",
    "    print('Run data_preparation.py File first and then Re-Run this Cell')"
   ]
  },
  {
   "cell_type": "code",
   "execution_count": 3,
   "id": "951fc5d9",
   "metadata": {},
   "outputs": [
    {
     "data": {
      "text/plain": [
       "((5000, 128, 128, 3), (5000,))"
      ]
     },
     "execution_count": 3,
     "metadata": {},
     "output_type": "execute_result"
    }
   ],
   "source": [
    "# Data Size\n",
    "X.shape, y.shape"
   ]
  },
  {
   "cell_type": "code",
   "execution_count": 4,
   "id": "b94f41ee",
   "metadata": {},
   "outputs": [],
   "source": [
    "# Convolution Neural Network\n",
    "model = Sequential()\n",
    "\n",
    "# First Convolution and Max Pooling Layer\n",
    "conv_layer_1 = Conv2D(64, (3, 3), activation='relu')\n",
    "max_pool_layer_1 = MaxPooling2D((2, 2))\n",
    "\n",
    "# Second Convolution and Max Pooling Layer\n",
    "conv_layer_2 = Conv2D(64, (3, 3), activation='relu')\n",
    "max_pool_layer_2 = MaxPooling2D((2, 2))\n",
    "\n",
    "# Third Convolution and Max Pooling Layer\n",
    "conv_layer_3 = Conv2D(64, (3, 3), activation='relu')\n",
    "max_pool_layer_3 = MaxPooling2D((2, 2))\n",
    "\n",
    "# Flattening Layer\n",
    "flatten_layer = Flatten()\n",
    "\n",
    "# Hidden Layers\n",
    "hidden_layer_1 = Dense(128, input_shape=X.shape[1:], activation='relu')\n",
    "hidden_layer_2 = Dense(128, input_shape=X.shape[1:], activation='relu')\n",
    "\n",
    "# Output Layer\n",
    "output_layer = Dense(2, activation='softmax')\n",
    "\n",
    "# Adding Layers to Neural Network\n",
    "model.add(conv_layer_1)\n",
    "model.add(max_pool_layer_1)\n",
    "model.add(conv_layer_2)\n",
    "model.add(max_pool_layer_2)\n",
    "model.add(conv_layer_3)\n",
    "model.add(max_pool_layer_3)\n",
    "model.add(flatten_layer)\n",
    "model.add(hidden_layer_1)\n",
    "model.add(hidden_layer_2)\n",
    "model.add(output_layer)"
   ]
  },
  {
   "cell_type": "code",
   "execution_count": 5,
   "id": "31b093d3",
   "metadata": {},
   "outputs": [],
   "source": [
    "# Compiling Model\n",
    "model.compile(loss='sparse_categorical_crossentropy', optimizer='adam', metrics=['accuracy'])"
   ]
  },
  {
   "cell_type": "code",
   "execution_count": 6,
   "id": "a00a94ff",
   "metadata": {},
   "outputs": [],
   "source": [
    "# Setting Up Callback\n",
    "stopper = EarlyStopping(\n",
    "    monitor='accuracy', \n",
    "    min_delta=0, patience=3, \n",
    "    verbose=0, \n",
    "    mode='auto', \n",
    "    baseline=None, \n",
    "    restore_best_weights=True\n",
    ")"
   ]
  },
  {
   "cell_type": "code",
   "execution_count": 7,
   "id": "a5940c94",
   "metadata": {},
   "outputs": [
    {
     "name": "stdout",
     "output_type": "stream",
     "text": [
      "Epoch 1/10\n",
      "141/141 [==============================] - 177s 1s/step - loss: 0.6860 - accuracy: 0.5436 - val_loss: 0.6893 - val_accuracy: 0.5700\n",
      "Epoch 2/10\n",
      "141/141 [==============================] - 118s 839ms/step - loss: 0.6406 - accuracy: 0.6256 - val_loss: 0.6433 - val_accuracy: 0.6260\n",
      "Epoch 3/10\n",
      "141/141 [==============================] - 118s 839ms/step - loss: 0.5949 - accuracy: 0.6844 - val_loss: 0.5667 - val_accuracy: 0.6940\n",
      "Epoch 4/10\n",
      "141/141 [==============================] - 117s 833ms/step - loss: 0.5247 - accuracy: 0.7344 - val_loss: 0.5680 - val_accuracy: 0.7160\n",
      "Epoch 5/10\n",
      "141/141 [==============================] - 121s 860ms/step - loss: 0.4675 - accuracy: 0.7778 - val_loss: 0.5825 - val_accuracy: 0.7140\n",
      "Epoch 6/10\n",
      "141/141 [==============================] - 148s 1s/step - loss: 0.3846 - accuracy: 0.8184 - val_loss: 0.5516 - val_accuracy: 0.7320\n",
      "Epoch 7/10\n",
      "141/141 [==============================] - 118s 840ms/step - loss: 0.2955 - accuracy: 0.8711 - val_loss: 0.7569 - val_accuracy: 0.7080\n",
      "Epoch 8/10\n",
      "141/141 [==============================] - 117s 831ms/step - loss: 0.2067 - accuracy: 0.9104 - val_loss: 0.7710 - val_accuracy: 0.7400\n",
      "Epoch 9/10\n",
      "141/141 [==============================] - 116s 824ms/step - loss: 0.1365 - accuracy: 0.9476 - val_loss: 0.9177 - val_accuracy: 0.7260\n",
      "Epoch 10/10\n",
      "141/141 [==============================] - 117s 828ms/step - loss: 0.0918 - accuracy: 0.9653 - val_loss: 1.0595 - val_accuracy: 0.7220\n"
     ]
    }
   ],
   "source": [
    "# Fitting Data\n",
    "history = model.fit(X, y, epochs=10, callbacks=[stopper], validation_split=0.1)"
   ]
  },
  {
   "cell_type": "code",
   "execution_count": 8,
   "id": "40d2955e",
   "metadata": {},
   "outputs": [
    {
     "data": {
      "text/plain": [
       "{'loss': [0.6860220432281494,\n",
       "  0.6406360864639282,\n",
       "  0.5948796272277832,\n",
       "  0.5246556997299194,\n",
       "  0.4674697816371918,\n",
       "  0.38462206721305847,\n",
       "  0.29550570249557495,\n",
       "  0.2066848874092102,\n",
       "  0.13651669025421143,\n",
       "  0.09183578193187714],\n",
       " 'accuracy': [0.5435555577278137,\n",
       "  0.6255555748939514,\n",
       "  0.6844444274902344,\n",
       "  0.7344444394111633,\n",
       "  0.7777777910232544,\n",
       "  0.8184444308280945,\n",
       "  0.8711110949516296,\n",
       "  0.910444438457489,\n",
       "  0.9475555419921875,\n",
       "  0.9653333425521851],\n",
       " 'val_loss': [0.6893464922904968,\n",
       "  0.6433016061782837,\n",
       "  0.5666899085044861,\n",
       "  0.568046510219574,\n",
       "  0.5824514627456665,\n",
       "  0.5516478419303894,\n",
       "  0.7568602561950684,\n",
       "  0.7709816694259644,\n",
       "  0.9176732897758484,\n",
       "  1.0595033168792725],\n",
       " 'val_accuracy': [0.5699999928474426,\n",
       "  0.6259999871253967,\n",
       "  0.6940000057220459,\n",
       "  0.7160000205039978,\n",
       "  0.7139999866485596,\n",
       "  0.7319999933242798,\n",
       "  0.7080000042915344,\n",
       "  0.7400000095367432,\n",
       "  0.7260000109672546,\n",
       "  0.722000002861023]}"
      ]
     },
     "execution_count": 8,
     "metadata": {},
     "output_type": "execute_result"
    }
   ],
   "source": [
    "# Model History\n",
    "history.history"
   ]
  },
  {
   "cell_type": "code",
   "execution_count": 9,
   "id": "70ba5d47",
   "metadata": {},
   "outputs": [
    {
     "name": "stdout",
     "output_type": "stream",
     "text": [
      "Model: \"sequential\"\n",
      "_________________________________________________________________\n",
      "Layer (type)                 Output Shape              Param #   \n",
      "=================================================================\n",
      "conv2d (Conv2D)              (None, 126, 126, 64)      1792      \n",
      "_________________________________________________________________\n",
      "max_pooling2d (MaxPooling2D) (None, 63, 63, 64)        0         \n",
      "_________________________________________________________________\n",
      "conv2d_1 (Conv2D)            (None, 61, 61, 64)        36928     \n",
      "_________________________________________________________________\n",
      "max_pooling2d_1 (MaxPooling2 (None, 30, 30, 64)        0         \n",
      "_________________________________________________________________\n",
      "conv2d_2 (Conv2D)            (None, 28, 28, 64)        36928     \n",
      "_________________________________________________________________\n",
      "max_pooling2d_2 (MaxPooling2 (None, 14, 14, 64)        0         \n",
      "_________________________________________________________________\n",
      "flatten (Flatten)            (None, 12544)             0         \n",
      "_________________________________________________________________\n",
      "dense (Dense)                (None, 128)               1605760   \n",
      "_________________________________________________________________\n",
      "dense_1 (Dense)              (None, 128)               16512     \n",
      "_________________________________________________________________\n",
      "dense_2 (Dense)              (None, 2)                 258       \n",
      "=================================================================\n",
      "Total params: 1,698,178\n",
      "Trainable params: 1,698,178\n",
      "Non-trainable params: 0\n",
      "_________________________________________________________________\n"
     ]
    }
   ],
   "source": [
    "# Summary\n",
    "model.summary()"
   ]
  }
 ],
 "metadata": {
  "kernelspec": {
   "display_name": "Python 3 (ipykernel)",
   "language": "python",
   "name": "python3"
  },
  "language_info": {
   "codemirror_mode": {
    "name": "ipython",
    "version": 3
   },
   "file_extension": ".py",
   "mimetype": "text/x-python",
   "name": "python",
   "nbconvert_exporter": "python",
   "pygments_lexer": "ipython3",
   "version": "3.7.3"
  }
 },
 "nbformat": 4,
 "nbformat_minor": 5
}
